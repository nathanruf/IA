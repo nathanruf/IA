{
  "nbformat": 4,
  "nbformat_minor": 0,
  "metadata": {
    "colab": {
      "provenance": []
    },
    "kernelspec": {
      "name": "python3",
      "display_name": "Python 3"
    },
    "language_info": {
      "name": "python"
    }
  },
  "cells": [
    {
      "cell_type": "code",
      "source": [
        "import pandas as pd\n",
        "import matplotlib.pyplot as plt\n",
        "import numpy as np"
      ],
      "metadata": {
        "id": "-nXciJCe9o_F"
      },
      "execution_count": 1,
      "outputs": []
    },
    {
      "cell_type": "code",
      "source": [
        "df = pd.read_csv(\"lymphography.data\", names = [\"class\", \"lymphatics\", \"block of affere\", \"bl. of lymph. c\", \"bl. of lymph. s\", \"by pass\", \"extravasates\", \"regeneration of\", \"early uptake in\", \"lym.nodes dimin\", \"lym.nodes enlar\", \"changes in lym.\", \"defect in node\", \"changes in node\", \"changes in stru\", \"special forms\", \"dislocation of\", \"exclusion of no\", \"no. of nodes in\"])"
      ],
      "metadata": {
        "id": "gjDR9tbe-oI3"
      },
      "execution_count": 2,
      "outputs": []
    },
    {
      "cell_type": "markdown",
      "source": [
        "**1. Identificação do atributo alvo (saída)** -> class"
      ],
      "metadata": {
        "id": "ieSpeskYDWvl"
      }
    },
    {
      "cell_type": "markdown",
      "source": [
        "**2. Identificação dos tipos de dados dos atributos de entrada (quantitativo, qualitativo)** ->\n",
        "- class -> qualitativo\n",
        "- lymphatics -> qualitativo\n",
        "- block of affere -> qualitativo\n",
        "- bl. of lymph. c -> qualitativo\n",
        "- bl. of lymph. s -> qualitativo\n",
        "- by pass -> qualitativo\n",
        "- extravasates -> qualitativo\n",
        "- regeneration of -> qualitativo\n",
        "- early uptake in -> qualitativo\n",
        "- lym.nodes dimin -> quantitativo\n",
        "- lym.nodes enlar -> quantitativo\n",
        "- changes in lym. -> qualitativo\n",
        "- defect in node -> qualitativo\n",
        "- changes in node -> qualitativo\n",
        "- changes in stru -> qualitativo\n",
        "- special forms -> qualitativo\n",
        "- dislocation of -> qualitativo\n",
        "- exclusion of no -> qualitativo\n",
        "- no. of nodes in -> quantitativo"
      ],
      "metadata": {
        "id": "KNoT4we5DyAM"
      }
    },
    {
      "cell_type": "markdown",
      "source": [
        "**3. Identificação da escala de dados dos atributos de entrada (nominal, ordinal, intervalar, racional)** ->\n",
        "- class -> nominal\n",
        "- lymphatics (linfonodos) -> nominal\n",
        "- block of affere -> nominal\n",
        "- bl. of lymph. c -> nominal\n",
        "- bl. of lymph. s -> nominal\n",
        "- by pass -> nominal\n",
        "- extravasates -> nominal\n",
        "- regeneration of -> nominal\n",
        "- early uptake in -> nominal\n",
        "- lym.nodes dimin -> Intervalar\n",
        "- lym.nodes enlar -> Intervalar\n",
        "- changes in lym. -> nominal\n",
        "- defect in node -> nominal\n",
        "- changes in node -> nominal\n",
        "- changes in stru -> nominal\n",
        "- special forms -> nominal\n",
        "- dislocation of -> nominal\n",
        "- exclusion of no -> nominal\n",
        "- no. of nodes in -> Intervalar"
      ],
      "metadata": {
        "id": "gUlveJFV7rlv"
      }
    },
    {
      "cell_type": "markdown",
      "source": [
        "**4. Exploração dos dados através de medidas de localidade**"
      ],
      "metadata": {
        "id": "37C3WI8LJfOV"
      }
    },
    {
      "cell_type": "code",
      "source": [
        "print(\"Média\\n\")\n",
        "print(df.mean())"
      ],
      "metadata": {
        "colab": {
          "base_uri": "https://localhost:8080/"
        },
        "id": "uaQH7V-2NOIU",
        "outputId": "a63d3f13-f04a-407a-d41f-ebad34afcb22"
      },
      "execution_count": 3,
      "outputs": [
        {
          "output_type": "stream",
          "name": "stdout",
          "text": [
            "Média\n",
            "\n",
            "class              2.452703\n",
            "lymphatics         2.743243\n",
            "block of affere    1.554054\n",
            "bl. of lymph. c    1.175676\n",
            "bl. of lymph. s    1.047297\n",
            "by pass            1.243243\n",
            "extravasates       1.506757\n",
            "regeneration of    1.067568\n",
            "early uptake in    1.702703\n",
            "lym.nodes dimin    1.060811\n",
            "lym.nodes enlar    2.472973\n",
            "changes in lym.    2.398649\n",
            "defect in node     2.966216\n",
            "changes in node    2.804054\n",
            "changes in stru    5.216216\n",
            "special forms      2.331081\n",
            "dislocation of     1.662162\n",
            "exclusion of no    1.790541\n",
            "no. of nodes in    2.601351\n",
            "dtype: float64\n"
          ]
        }
      ]
    },
    {
      "cell_type": "code",
      "source": [
        "print(\"\\nMediana\\n\")\n",
        "print(df.median())"
      ],
      "metadata": {
        "colab": {
          "base_uri": "https://localhost:8080/"
        },
        "id": "BJt_7vlaNWeF",
        "outputId": "939aa577-388e-464f-fa5b-bbf78d610801"
      },
      "execution_count": 4,
      "outputs": [
        {
          "output_type": "stream",
          "name": "stdout",
          "text": [
            "\n",
            "Mediana\n",
            "\n",
            "class              2.0\n",
            "lymphatics         3.0\n",
            "block of affere    2.0\n",
            "bl. of lymph. c    1.0\n",
            "bl. of lymph. s    1.0\n",
            "by pass            1.0\n",
            "extravasates       2.0\n",
            "regeneration of    1.0\n",
            "early uptake in    2.0\n",
            "lym.nodes dimin    1.0\n",
            "lym.nodes enlar    2.0\n",
            "changes in lym.    2.0\n",
            "defect in node     3.0\n",
            "changes in node    3.0\n",
            "changes in stru    5.0\n",
            "special forms      3.0\n",
            "dislocation of     2.0\n",
            "exclusion of no    2.0\n",
            "no. of nodes in    2.0\n",
            "dtype: float64\n"
          ]
        }
      ]
    },
    {
      "cell_type": "code",
      "source": [
        "print(\"\\nModa\\n\")\n",
        "df.mode()"
      ],
      "metadata": {
        "colab": {
          "base_uri": "https://localhost:8080/",
          "height": 249
        },
        "id": "SM-7pa4mPRVT",
        "outputId": "9ba25ca6-8420-4ffd-8bed-5a3ac77947f9"
      },
      "execution_count": 5,
      "outputs": [
        {
          "output_type": "stream",
          "name": "stdout",
          "text": [
            "\n",
            "Moda\n",
            "\n"
          ]
        },
        {
          "output_type": "execute_result",
          "data": {
            "text/plain": [
              "   class  lymphatics  block of affere  bl. of lymph. c  bl. of lymph. s  \\\n",
              "0      2           2                2                1                1   \n",
              "\n",
              "   by pass  extravasates  regeneration of  early uptake in  lym.nodes dimin  \\\n",
              "0        1             2                1                2                1   \n",
              "\n",
              "   lym.nodes enlar  changes in lym.  defect in node  changes in node  \\\n",
              "0                2                2               4                3   \n",
              "\n",
              "   changes in stru  special forms  dislocation of  exclusion of no  \\\n",
              "0                8              3               2                2   \n",
              "\n",
              "   no. of nodes in  \n",
              "0                1  "
            ],
            "text/html": [
              "\n",
              "  <div id=\"df-1153543a-c8b1-4363-92bd-972e43794424\">\n",
              "    <div class=\"colab-df-container\">\n",
              "      <div>\n",
              "<style scoped>\n",
              "    .dataframe tbody tr th:only-of-type {\n",
              "        vertical-align: middle;\n",
              "    }\n",
              "\n",
              "    .dataframe tbody tr th {\n",
              "        vertical-align: top;\n",
              "    }\n",
              "\n",
              "    .dataframe thead th {\n",
              "        text-align: right;\n",
              "    }\n",
              "</style>\n",
              "<table border=\"1\" class=\"dataframe\">\n",
              "  <thead>\n",
              "    <tr style=\"text-align: right;\">\n",
              "      <th></th>\n",
              "      <th>class</th>\n",
              "      <th>lymphatics</th>\n",
              "      <th>block of affere</th>\n",
              "      <th>bl. of lymph. c</th>\n",
              "      <th>bl. of lymph. s</th>\n",
              "      <th>by pass</th>\n",
              "      <th>extravasates</th>\n",
              "      <th>regeneration of</th>\n",
              "      <th>early uptake in</th>\n",
              "      <th>lym.nodes dimin</th>\n",
              "      <th>lym.nodes enlar</th>\n",
              "      <th>changes in lym.</th>\n",
              "      <th>defect in node</th>\n",
              "      <th>changes in node</th>\n",
              "      <th>changes in stru</th>\n",
              "      <th>special forms</th>\n",
              "      <th>dislocation of</th>\n",
              "      <th>exclusion of no</th>\n",
              "      <th>no. of nodes in</th>\n",
              "    </tr>\n",
              "  </thead>\n",
              "  <tbody>\n",
              "    <tr>\n",
              "      <th>0</th>\n",
              "      <td>2</td>\n",
              "      <td>2</td>\n",
              "      <td>2</td>\n",
              "      <td>1</td>\n",
              "      <td>1</td>\n",
              "      <td>1</td>\n",
              "      <td>2</td>\n",
              "      <td>1</td>\n",
              "      <td>2</td>\n",
              "      <td>1</td>\n",
              "      <td>2</td>\n",
              "      <td>2</td>\n",
              "      <td>4</td>\n",
              "      <td>3</td>\n",
              "      <td>8</td>\n",
              "      <td>3</td>\n",
              "      <td>2</td>\n",
              "      <td>2</td>\n",
              "      <td>1</td>\n",
              "    </tr>\n",
              "  </tbody>\n",
              "</table>\n",
              "</div>\n",
              "      <button class=\"colab-df-convert\" onclick=\"convertToInteractive('df-1153543a-c8b1-4363-92bd-972e43794424')\"\n",
              "              title=\"Convert this dataframe to an interactive table.\"\n",
              "              style=\"display:none;\">\n",
              "        \n",
              "  <svg xmlns=\"http://www.w3.org/2000/svg\" height=\"24px\"viewBox=\"0 0 24 24\"\n",
              "       width=\"24px\">\n",
              "    <path d=\"M0 0h24v24H0V0z\" fill=\"none\"/>\n",
              "    <path d=\"M18.56 5.44l.94 2.06.94-2.06 2.06-.94-2.06-.94-.94-2.06-.94 2.06-2.06.94zm-11 1L8.5 8.5l.94-2.06 2.06-.94-2.06-.94L8.5 2.5l-.94 2.06-2.06.94zm10 10l.94 2.06.94-2.06 2.06-.94-2.06-.94-.94-2.06-.94 2.06-2.06.94z\"/><path d=\"M17.41 7.96l-1.37-1.37c-.4-.4-.92-.59-1.43-.59-.52 0-1.04.2-1.43.59L10.3 9.45l-7.72 7.72c-.78.78-.78 2.05 0 2.83L4 21.41c.39.39.9.59 1.41.59.51 0 1.02-.2 1.41-.59l7.78-7.78 2.81-2.81c.8-.78.8-2.07 0-2.86zM5.41 20L4 18.59l7.72-7.72 1.47 1.35L5.41 20z\"/>\n",
              "  </svg>\n",
              "      </button>\n",
              "      \n",
              "  <style>\n",
              "    .colab-df-container {\n",
              "      display:flex;\n",
              "      flex-wrap:wrap;\n",
              "      gap: 12px;\n",
              "    }\n",
              "\n",
              "    .colab-df-convert {\n",
              "      background-color: #E8F0FE;\n",
              "      border: none;\n",
              "      border-radius: 50%;\n",
              "      cursor: pointer;\n",
              "      display: none;\n",
              "      fill: #1967D2;\n",
              "      height: 32px;\n",
              "      padding: 0 0 0 0;\n",
              "      width: 32px;\n",
              "    }\n",
              "\n",
              "    .colab-df-convert:hover {\n",
              "      background-color: #E2EBFA;\n",
              "      box-shadow: 0px 1px 2px rgba(60, 64, 67, 0.3), 0px 1px 3px 1px rgba(60, 64, 67, 0.15);\n",
              "      fill: #174EA6;\n",
              "    }\n",
              "\n",
              "    [theme=dark] .colab-df-convert {\n",
              "      background-color: #3B4455;\n",
              "      fill: #D2E3FC;\n",
              "    }\n",
              "\n",
              "    [theme=dark] .colab-df-convert:hover {\n",
              "      background-color: #434B5C;\n",
              "      box-shadow: 0px 1px 3px 1px rgba(0, 0, 0, 0.15);\n",
              "      filter: drop-shadow(0px 1px 2px rgba(0, 0, 0, 0.3));\n",
              "      fill: #FFFFFF;\n",
              "    }\n",
              "  </style>\n",
              "\n",
              "      <script>\n",
              "        const buttonEl =\n",
              "          document.querySelector('#df-1153543a-c8b1-4363-92bd-972e43794424 button.colab-df-convert');\n",
              "        buttonEl.style.display =\n",
              "          google.colab.kernel.accessAllowed ? 'block' : 'none';\n",
              "\n",
              "        async function convertToInteractive(key) {\n",
              "          const element = document.querySelector('#df-1153543a-c8b1-4363-92bd-972e43794424');\n",
              "          const dataTable =\n",
              "            await google.colab.kernel.invokeFunction('convertToInteractive',\n",
              "                                                     [key], {});\n",
              "          if (!dataTable) return;\n",
              "\n",
              "          const docLinkHtml = 'Like what you see? Visit the ' +\n",
              "            '<a target=\"_blank\" href=https://colab.research.google.com/notebooks/data_table.ipynb>data table notebook</a>'\n",
              "            + ' to learn more about interactive tables.';\n",
              "          element.innerHTML = '';\n",
              "          dataTable['output_type'] = 'display_data';\n",
              "          await google.colab.output.renderOutput(dataTable, element);\n",
              "          const docLink = document.createElement('div');\n",
              "          docLink.innerHTML = docLinkHtml;\n",
              "          element.appendChild(docLink);\n",
              "        }\n",
              "      </script>\n",
              "    </div>\n",
              "  </div>\n",
              "  "
            ]
          },
          "metadata": {},
          "execution_count": 5
        }
      ]
    },
    {
      "cell_type": "code",
      "source": [
        "plt.boxplot(df)\n",
        "plt.title('Boxplot')\n",
        "plt.show()"
      ],
      "metadata": {
        "colab": {
          "base_uri": "https://localhost:8080/",
          "height": 452
        },
        "id": "_ZAnz2X2A0j_",
        "outputId": "272f419f-742a-4358-f6c3-97a94744ffdd"
      },
      "execution_count": 6,
      "outputs": [
        {
          "output_type": "display_data",
          "data": {
            "text/plain": [
              "<Figure size 640x480 with 1 Axes>"
            ],
            "image/png": "[encoded data removed]"
          },
          "metadata": {}
        }
      ]
    },
    {
      "cell_type": "markdown",
      "source": [
        "**5. Exploração dos dados através de medidas de espalhamento**"
      ],
      "metadata": {
        "id": "W7LiXNAfPk3o"
      }
    },
    {
      "cell_type": "code",
      "source": [
        "print(\"Desvio padrão\\n\")\n",
        "print(df.std())\n",
        "print(\"\\nVariância\\n\")\n",
        "print(df.var())\n",
        "print(\"\\nAmplitude\\n\")\n",
        "print((df.max() - df.min()))"
      ],
      "metadata": {
        "colab": {
          "base_uri": "https://localhost:8080/"
        },
        "id": "ihLSoHZLPmTR",
        "outputId": "e78b1d08-4ba9-4f11-c017-58ef93f3f443"
      },
      "execution_count": 7,
      "outputs": [
        {
          "output_type": "stream",
          "name": "stdout",
          "text": [
            "Desvio padrão\n",
            "\n",
            "class              0.575396\n",
            "lymphatics         0.817509\n",
            "block of affere    0.498757\n",
            "bl. of lymph. c    0.381836\n",
            "bl. of lymph. s    0.212995\n",
            "by pass            0.430498\n",
            "extravasates       0.501652\n",
            "regeneration of    0.251855\n",
            "early uptake in    0.458621\n",
            "lym.nodes dimin    0.313557\n",
            "lym.nodes enlar    0.836627\n",
            "changes in lym.    0.568323\n",
            "defect in node     0.868305\n",
            "changes in node    0.761834\n",
            "changes in stru    2.171368\n",
            "special forms      0.777126\n",
            "dislocation of     0.474579\n",
            "exclusion of no    0.408305\n",
            "no. of nodes in    1.905023\n",
            "dtype: float64\n",
            "\n",
            "Variância\n",
            "\n",
            "class              0.331081\n",
            "lymphatics         0.668321\n",
            "block of affere    0.248759\n",
            "bl. of lymph. c    0.145799\n",
            "bl. of lymph. s    0.045367\n",
            "by pass            0.185328\n",
            "extravasates       0.251655\n",
            "regeneration of    0.063431\n",
            "early uptake in    0.210333\n",
            "lym.nodes dimin    0.098318\n",
            "lym.nodes enlar    0.699945\n",
            "changes in lym.    0.322991\n",
            "defect in node     0.753953\n",
            "changes in node    0.580392\n",
            "changes in stru    4.714837\n",
            "special forms      0.603925\n",
            "dislocation of     0.225225\n",
            "exclusion of no    0.166713\n",
            "no. of nodes in    3.629114\n",
            "dtype: float64\n",
            "\n",
            "Amplitude\n",
            "\n",
            "class              3\n",
            "lymphatics         3\n",
            "block of affere    1\n",
            "bl. of lymph. c    1\n",
            "bl. of lymph. s    1\n",
            "by pass            1\n",
            "extravasates       1\n",
            "regeneration of    1\n",
            "early uptake in    1\n",
            "lym.nodes dimin    2\n",
            "lym.nodes enlar    3\n",
            "changes in lym.    2\n",
            "defect in node     3\n",
            "changes in node    3\n",
            "changes in stru    7\n",
            "special forms      2\n",
            "dislocation of     1\n",
            "exclusion of no    1\n",
            "no. of nodes in    7\n",
            "dtype: int64\n"
          ]
        }
      ]
    },
    {
      "cell_type": "markdown",
      "source": [
        "**6. Exploração dos dados através de medidas de distribuição**"
      ],
      "metadata": {
        "id": "G5HHvkGxRFsg"
      }
    },
    {
      "cell_type": "code",
      "source": [
        "print(\"Quartis\\n\")\n",
        "df.quantile([0.25, 0.5, 0.75])"
      ],
      "metadata": {
        "colab": {
          "base_uri": "https://localhost:8080/",
          "height": 294
        },
        "id": "VJf0UM8FQEip",
        "outputId": "02253841-04fa-4027-ae6c-71b684c7e55c"
      },
      "execution_count": 8,
      "outputs": [
        {
          "output_type": "stream",
          "name": "stdout",
          "text": [
            "Quartis\n",
            "\n"
          ]
        },
        {
          "output_type": "execute_result",
          "data": {
            "text/plain": [
              "      class  lymphatics  block of affere  bl. of lymph. c  bl. of lymph. s  \\\n",
              "0.25    2.0         2.0              1.0              1.0              1.0   \n",
              "0.50    2.0         3.0              2.0              1.0              1.0   \n",
              "0.75    3.0         3.0              2.0              1.0              1.0   \n",
              "\n",
              "      by pass  extravasates  regeneration of  early uptake in  \\\n",
              "0.25      1.0           1.0              1.0              1.0   \n",
              "0.50      1.0           2.0              1.0              2.0   \n",
              "0.75      1.0           2.0              1.0              2.0   \n",
              "\n",
              "      lym.nodes dimin  lym.nodes enlar  changes in lym.  defect in node  \\\n",
              "0.25              1.0              2.0              2.0             2.0   \n",
              "0.50              1.0              2.0              2.0             3.0   \n",
              "0.75              1.0              3.0              3.0             4.0   \n",
              "\n",
              "      changes in node  changes in stru  special forms  dislocation of  \\\n",
              "0.25              2.0              4.0            2.0             1.0   \n",
              "0.50              3.0              5.0            3.0             2.0   \n",
              "0.75              3.0              8.0            3.0             2.0   \n",
              "\n",
              "      exclusion of no  no. of nodes in  \n",
              "0.25              2.0              1.0  \n",
              "0.50              2.0              2.0  \n",
              "0.75              2.0              3.0  "
            ],
            "text/html": [
              "\n",
              "  <div id=\"df-d913662a-d526-4e4c-8e55-c9a2e3f6b1ff\">\n",
              "    <div class=\"colab-df-container\">\n",
              "      <div>\n",
              "<style scoped>\n",
              "    .dataframe tbody tr th:only-of-type {\n",
              "        vertical-align: middle;\n",
              "    }\n",
              "\n",
              "    .dataframe tbody tr th {\n",
              "        vertical-align: top;\n",
              "    }\n",
              "\n",
              "    .dataframe thead th {\n",
              "        text-align: right;\n",
              "    }\n",
              "</style>\n",
              "<table border=\"1\" class=\"dataframe\">\n",
              "  <thead>\n",
              "    <tr style=\"text-align: right;\">\n",
              "      <th></th>\n",
              "      <th>class</th>\n",
              "      <th>lymphatics</th>\n",
              "      <th>block of affere</th>\n",
              "      <th>bl. of lymph. c</th>\n",
              "      <th>bl. of lymph. s</th>\n",
              "      <th>by pass</th>\n",
              "      <th>extravasates</th>\n",
              "      <th>regeneration of</th>\n",
              "      <th>early uptake in</th>\n",
              "      <th>lym.nodes dimin</th>\n",
              "      <th>lym.nodes enlar</th>\n",
              "      <th>changes in lym.</th>\n",
              "      <th>defect in node</th>\n",
              "      <th>changes in node</th>\n",
              "      <th>changes in stru</th>\n",
              "      <th>special forms</th>\n",
              "      <th>dislocation of</th>\n",
              "      <th>exclusion of no</th>\n",
              "      <th>no. of nodes in</th>\n",
              "    </tr>\n",
              "  </thead>\n",
              "  <tbody>\n",
              "    <tr>\n",
              "      <th>0.25</th>\n",
              "      <td>2.0</td>\n",
              "      <td>2.0</td>\n",
              "      <td>1.0</td>\n",
              "      <td>1.0</td>\n",
              "      <td>1.0</td>\n",
              "      <td>1.0</td>\n",
              "      <td>1.0</td>\n",
              "      <td>1.0</td>\n",
              "      <td>1.0</td>\n",
              "      <td>1.0</td>\n",
              "      <td>2.0</td>\n",
              "      <td>2.0</td>\n",
              "      <td>2.0</td>\n",
              "      <td>2.0</td>\n",
              "      <td>4.0</td>\n",
              "      <td>2.0</td>\n",
              "      <td>1.0</td>\n",
              "      <td>2.0</td>\n",
              "      <td>1.0</td>\n",
              "    </tr>\n",
              "    <tr>\n",
              "      <th>0.50</th>\n",
              "      <td>2.0</td>\n",
              "      <td>3.0</td>\n",
              "      <td>2.0</td>\n",
              "      <td>1.0</td>\n",
              "      <td>1.0</td>\n",
              "      <td>1.0</td>\n",
              "      <td>2.0</td>\n",
              "      <td>1.0</td>\n",
              "      <td>2.0</td>\n",
              "      <td>1.0</td>\n",
              "      <td>2.0</td>\n",
              "      <td>2.0</td>\n",
              "      <td>3.0</td>\n",
              "      <td>3.0</td>\n",
              "      <td>5.0</td>\n",
              "      <td>3.0</td>\n",
              "      <td>2.0</td>\n",
              "      <td>2.0</td>\n",
              "      <td>2.0</td>\n",
              "    </tr>\n",
              "    <tr>\n",
              "      <th>0.75</th>\n",
              "      <td>3.0</td>\n",
              "      <td>3.0</td>\n",
              "      <td>2.0</td>\n",
              "      <td>1.0</td>\n",
              "      <td>1.0</td>\n",
              "      <td>1.0</td>\n",
              "      <td>2.0</td>\n",
              "      <td>1.0</td>\n",
              "      <td>2.0</td>\n",
              "      <td>1.0</td>\n",
              "      <td>3.0</td>\n",
              "      <td>3.0</td>\n",
              "      <td>4.0</td>\n",
              "      <td>3.0</td>\n",
              "      <td>8.0</td>\n",
              "      <td>3.0</td>\n",
              "      <td>2.0</td>\n",
              "      <td>2.0</td>\n",
              "      <td>3.0</td>\n",
              "    </tr>\n",
              "  </tbody>\n",
              "</table>\n",
              "</div>\n",
              "      <button class=\"colab-df-convert\" onclick=\"convertToInteractive('df-d913662a-d526-4e4c-8e55-c9a2e3f6b1ff')\"\n",
              "              title=\"Convert this dataframe to an interactive table.\"\n",
              "              style=\"display:none;\">\n",
              "        \n",
              "  <svg xmlns=\"http://www.w3.org/2000/svg\" height=\"24px\"viewBox=\"0 0 24 24\"\n",
              "       width=\"24px\">\n",
              "    <path d=\"M0 0h24v24H0V0z\" fill=\"none\"/>\n",
              "    <path d=\"M18.56 5.44l.94 2.06.94-2.06 2.06-.94-2.06-.94-.94-2.06-.94 2.06-2.06.94zm-11 1L8.5 8.5l.94-2.06 2.06-.94-2.06-.94L8.5 2.5l-.94 2.06-2.06.94zm10 10l.94 2.06.94-2.06 2.06-.94-2.06-.94-.94-2.06-.94 2.06-2.06.94z\"/><path d=\"M17.41 7.96l-1.37-1.37c-.4-.4-.92-.59-1.43-.59-.52 0-1.04.2-1.43.59L10.3 9.45l-7.72 7.72c-.78.78-.78 2.05 0 2.83L4 21.41c.39.39.9.59 1.41.59.51 0 1.02-.2 1.41-.59l7.78-7.78 2.81-2.81c.8-.78.8-2.07 0-2.86zM5.41 20L4 18.59l7.72-7.72 1.47 1.35L5.41 20z\"/>\n",
              "  </svg>\n",
              "      </button>\n",
              "      \n",
              "  <style>\n",
              "    .colab-df-container {\n",
              "      display:flex;\n",
              "      flex-wrap:wrap;\n",
              "      gap: 12px;\n",
              "    }\n",
              "\n",
              "    .colab-df-convert {\n",
              "      background-color: #E8F0FE;\n",
              "      border: none;\n",
              "      border-radius: 50%;\n",
              "      cursor: pointer;\n",
              "      display: none;\n",
              "      fill: #1967D2;\n",
              "      height: 32px;\n",
              "      padding: 0 0 0 0;\n",
              "      width: 32px;\n",
              "    }\n",
              "\n",
              "    .colab-df-convert:hover {\n",
              "      background-color: #E2EBFA;\n",
              "      box-shadow: 0px 1px 2px rgba(60, 64, 67, 0.3), 0px 1px 3px 1px rgba(60, 64, 67, 0.15);\n",
              "      fill: #174EA6;\n",
              "    }\n",
              "\n",
              "    [theme=dark] .colab-df-convert {\n",
              "      background-color: #3B4455;\n",
              "      fill: #D2E3FC;\n",
              "    }\n",
              "\n",
              "    [theme=dark] .colab-df-convert:hover {\n",
              "      background-color: #434B5C;\n",
              "      box-shadow: 0px 1px 3px 1px rgba(0, 0, 0, 0.15);\n",
              "      filter: drop-shadow(0px 1px 2px rgba(0, 0, 0, 0.3));\n",
              "      fill: #FFFFFF;\n",
              "    }\n",
              "  </style>\n",
              "\n",
              "      <script>\n",
              "        const buttonEl =\n",
              "          document.querySelector('#df-d913662a-d526-4e4c-8e55-c9a2e3f6b1ff button.colab-df-convert');\n",
              "        buttonEl.style.display =\n",
              "          google.colab.kernel.accessAllowed ? 'block' : 'none';\n",
              "\n",
              "        async function convertToInteractive(key) {\n",
              "          const element = document.querySelector('#df-d913662a-d526-4e4c-8e55-c9a2e3f6b1ff');\n",
              "          const dataTable =\n",
              "            await google.colab.kernel.invokeFunction('convertToInteractive',\n",
              "                                                     [key], {});\n",
              "          if (!dataTable) return;\n",
              "\n",
              "          const docLinkHtml = 'Like what you see? Visit the ' +\n",
              "            '<a target=\"_blank\" href=https://colab.research.google.com/notebooks/data_table.ipynb>data table notebook</a>'\n",
              "            + ' to learn more about interactive tables.';\n",
              "          element.innerHTML = '';\n",
              "          dataTable['output_type'] = 'display_data';\n",
              "          await google.colab.output.renderOutput(dataTable, element);\n",
              "          const docLink = document.createElement('div');\n",
              "          docLink.innerHTML = docLinkHtml;\n",
              "          element.appendChild(docLink);\n",
              "        }\n",
              "      </script>\n",
              "    </div>\n",
              "  </div>\n",
              "  "
            ]
          },
          "metadata": {},
          "execution_count": 8
        }
      ]
    },
    {
      "cell_type": "code",
      "source": [
        "print(\"Percentil 80%\\n\")\n",
        "print(df.quantile(0.8))\n",
        "print(\"\\nAssimetria\\n\")\n",
        "print(df.skew())\n",
        "print(\"\\nCurtose\\n\")\n",
        "print(df.kurtosis())"
      ],
      "metadata": {
        "colab": {
          "base_uri": "https://localhost:8080/"
        },
        "id": "PW9dX2PTRDCO",
        "outputId": "55e8ca36-bdeb-4799-d9f0-b01ba7b65e7f"
      },
      "execution_count": 9,
      "outputs": [
        {
          "output_type": "stream",
          "name": "stdout",
          "text": [
            "Percentil 80%\n",
            "\n",
            "class              3.0\n",
            "lymphatics         4.0\n",
            "block of affere    2.0\n",
            "bl. of lymph. c    1.0\n",
            "bl. of lymph. s    1.0\n",
            "by pass            2.0\n",
            "extravasates       2.0\n",
            "regeneration of    1.0\n",
            "early uptake in    2.0\n",
            "lym.nodes dimin    1.0\n",
            "lym.nodes enlar    3.0\n",
            "changes in lym.    3.0\n",
            "defect in node     4.0\n",
            "changes in node    3.0\n",
            "changes in stru    8.0\n",
            "special forms      3.0\n",
            "dislocation of     2.0\n",
            "exclusion of no    2.0\n",
            "no. of nodes in    4.0\n",
            "Name: 0.8, dtype: float64\n",
            "\n",
            "Assimetria\n",
            "\n",
            "class              0.404387\n",
            "lymphatics         0.355663\n",
            "block of affere   -0.219724\n",
            "bl. of lymph. c    1.722032\n",
            "bl. of lymph. s    4.309063\n",
            "by pass            1.209177\n",
            "extravasates      -0.027307\n",
            "regeneration of    3.481025\n",
            "early uptake in   -0.896076\n",
            "lym.nodes dimin    5.442362\n",
            "lym.nodes enlar    0.333795\n",
            "changes in lym.   -0.268961\n",
            "defect in node    -0.123890\n",
            "changes in node   -0.214188\n",
            "changes in stru    0.089545\n",
            "special forms     -0.654557\n",
            "dislocation of    -0.692755\n",
            "exclusion of no   -1.442651\n",
            "no. of nodes in    1.203312\n",
            "dtype: float64\n",
            "\n",
            "Curtose\n",
            "\n",
            "class              -0.430507\n",
            "lymphatics         -1.135604\n",
            "block of affere    -1.978646\n",
            "bl. of lymph. c     0.978435\n",
            "bl. of lymph. s    16.794822\n",
            "by pass            -0.545446\n",
            "extravasates       -2.026830\n",
            "regeneration of    10.255955\n",
            "early uptake in    -1.213633\n",
            "lym.nodes dimin    29.749465\n",
            "lym.nodes enlar    -0.504096\n",
            "changes in lym.    -0.793145\n",
            "defect in node     -1.259010\n",
            "changes in node    -0.277793\n",
            "changes in stru    -1.331199\n",
            "special forms      -1.044921\n",
            "dislocation of     -1.541102\n",
            "exclusion of no     0.082169\n",
            "no. of nodes in     0.405021\n",
            "dtype: float64\n"
          ]
        }
      ]
    },
    {
      "cell_type": "markdown",
      "source": [
        "**7. Identificação e separação do conjunto de teste, que será utilizado para testar o desempenho\n",
        "dos modelos – o conjunto de testes deve ser representativo e ter as características da\n",
        "população completa. Caso sua base de dados já tenha o conjunto de teste definido, analisar\n",
        "se este segue as características do conjunto de treinamento**"
      ],
      "metadata": {
        "id": "18J4mHTGCenE"
      }
    },
    {
      "cell_type": "code",
      "source": [
        "separador = int(0.8 * len(df))\n",
        "treino = df[:separador]\n",
        "teste = df[separador:]"
      ],
      "metadata": {
        "id": "h5HZznMJCf8P"
      },
      "execution_count": 10,
      "outputs": []
    },
    {
      "cell_type": "markdown",
      "source": [
        "**8. Identificação e eliminação de atributos não necessários**\n",
        "\n",
        "\n",
        "1.   class: Representa a classe ou categoria da linfografia. Os valores possíveis são \"normal find\" (achado normal), \"metastases\" (metástases), \"malign lymph\" (linfonodo maligno) e \"fibrosis\" (fibrose).\n",
        "\n",
        "2. lymphatics: Refere-se à condição dos vasos linfáticos. Os valores possíveis são \"normal\" (normal), \"arched\" (arqueado), \"deformed\" (deformado) e \"displaced\" (deslocado).\n",
        "\n",
        "3. block of affere: Indica a presença de bloqueio no fluxo aferente. Os valores possíveis são \"no\" (não) e \"yes\" (sim).\n",
        "\n",
        "4. bl. of lymph. c: Representa o bloqueio do fluxo linfático colateral. Os valores possíveis são \"no\" (não) e \"yes\" (sim).\n",
        "\n",
        "5. bl. of lymph. s: Indica o bloqueio do fluxo linfático central. Os valores possíveis são \"no\" (não) e \"yes\" (sim).\n",
        "\n",
        "6. by pass: Refere-se à presença de desvio do fluxo linfático. Os valores possíveis são \"no\" (não) e \"yes\" (sim).\n",
        "\n",
        "7. extravasates: Indica a presença de extravasamento de líquido. Os valores possíveis são \"no\" (não) e \"yes\" (sim).\n",
        "\n",
        "8. regeneration of: Representa a presença de regeneração. Os valores possíveis são \"no\" (não) e \"yes\" (sim).\n",
        "\n",
        "9. early uptake in: Indica a presença de captura precoce. Os valores possíveis são \"no\" (não) e \"yes\" (sim).\n",
        "\n",
        "10. lym.nodes dimin: Representa o número de linfonodos diminuídos. Os valores variam de 0 a 3.\n",
        "\n",
        "11. lym.nodes enlar: Indica o número de linfonodos aumentados. Os valores variam de 1 a 4.\n",
        "\n",
        "12. changes in lym.: Refere-se às alterações na forma dos linfonodos. Os valores possíveis são \"bean\" (em forma de feijão), \"oval\" (oval), \"round\" (redondo).\n",
        "\n",
        "13. defect in node: Indica a presença de defeito no linfonodo. Os valores possíveis são \"no\" (não), \"lacunar\" (lacunar), \"lac. marginal\" (lacunar marginal) e \"lac. central\" (lacunar central).\n",
        "\n",
        "14. changes in node: Refere-se a alterações no linfonodo. Os valores possíveis são \"no\" (não), \"lacunar\" (lacunar), \"lac. margin\" (lacunar marginal) e \"lac. central\" (lacunar central).\n",
        "\n",
        "15. changes in stru: Representa alterações na estrutura. Os valores possíveis incluem \"no\" (não), \"grainy\" (granuloso), \"drop-like\" (em forma de gota), \"coarse\" (grosseiro), \"diluted\" (diluído), \"reticular\" (reticular), \"stripped\" (listrado) e \"faint\" (tênue).\n",
        "\n",
        "16. special forms: Indica formas especiais. Os valores possíveis são \"no\" (não), \"chalices\" (cálices) e \"vesicles\" (vesículas).\n",
        "\n",
        "17. dislocation of: Refere-se à presença de deslocamento. Os valores possíveis são \"no\" (não) e \"yes\" (sim).\n",
        "\n",
        "18. exclusion of no: Indica a ausência de nódulo. Os valores possíveis são \"no\" (não) e \"yes\" (sim).\n",
        "\n",
        "19. no. of nodes in: Representa o número de linfonodos na faixa especificada. Os valores possíveis são \"0-9\", \"10-19\", \"20-29\", \"30-39\", \"40-49\", \"50-59\", \"60-69\" e \">=70\".\n",
        "\n",
        "\n",
        "Com base no significado dos atributos, acredito que todos sejam significativos para o resultado final. Logo, não é necessária a remoção de nenhum deles."
      ],
      "metadata": {
        "id": "G5i2PEJiEsQo"
      }
    },
    {
      "cell_type": "markdown",
      "source": [
        "**9. Identificação e eliminação de exemplos não necessários**\n",
        "\n",
        "Creio que todos os exemplos são necessários, principalmente pelo fato de que a base já contém poucos exemplos"
      ],
      "metadata": {
        "id": "TZg9MlkBLWRN"
      }
    },
    {
      "cell_type": "markdown",
      "source": [
        "**10. Análise e aplicação de técnicas de amostragem de dados (caso não seja necessário, analisar\n",
        "o porquê)**\n",
        "\n",
        "Novamente acredito não ser necessário pela quantidade de dados que já é bem pequena"
      ],
      "metadata": {
        "id": "Y2q-imBsPV1U"
      }
    },
    {
      "cell_type": "markdown",
      "source": [
        "**11. Identificação e aplicação de técnicas para minimizar problemas de desbalanceamento (caso\n",
        "não seja necessário, analisar o porquê)**"
      ],
      "metadata": {
        "id": "AWG3197_P98N"
      }
    },
    {
      "cell_type": "code",
      "source": [
        "df[\"class\"].value_counts()"
      ],
      "metadata": {
        "colab": {
          "base_uri": "https://localhost:8080/"
        },
        "id": "sCwErhTZQgdM",
        "outputId": "b54cb16f-4ff2-472d-e24c-7770620d1829"
      },
      "execution_count": 11,
      "outputs": [
        {
          "output_type": "execute_result",
          "data": {
            "text/plain": [
              "2    81\n",
              "3    61\n",
              "4     4\n",
              "1     2\n",
              "Name: class, dtype: int64"
            ]
          },
          "metadata": {},
          "execution_count": 11
        }
      ]
    },
    {
      "cell_type": "markdown",
      "source": [
        "As classes 1 e 4 possuem apenas 2 e 4 exemplos, respectivamente. Devido a isso, acredito que técnicas como oversampling e undersampling estão fora de cogitação. A abordagem que decidi tomar é simplesmente remover as classes 1 e 4 da base de dados pela grande falta de exemplos. O modelo então servirá para classificar se a pessoa possui metástase (classe 2) ou um linfonodo maligno (classe 3)."
      ],
      "metadata": {
        "id": "FNKNeLusthOQ"
      }
    },
    {
      "cell_type": "code",
      "source": [
        "df = df.drop(df[(df['class'] == 1) | (df['class'] == 4)].index)"
      ],
      "metadata": {
        "id": "qVEi4CVuQhCv"
      },
      "execution_count": 12,
      "outputs": []
    },
    {
      "cell_type": "markdown",
      "source": [
        "**12. Limpeza de dados:**\n",
        "\n",
        "a. Identificação e eliminação de ruídos ou outliers;\n",
        "\n",
        "b. Identificação e eliminação de dados inconsistentes;\n",
        "\n",
        "c. Identificação e eliminação de dados redundantes;\n",
        "\n",
        "d. Identificação e resolução de dados incompletos (ausentes) – utilização de alguma técnica de preenchimento e justificar;\n"
      ],
      "metadata": {
        "id": "0xw4tWql0auc"
      }
    },
    {
      "cell_type": "code",
      "source": [
        "# as classes 'changes in node' e 'defect in node' possuem o mesmo significado\n",
        "df = df.drop('changes in node', axis=1)"
      ],
      "metadata": {
        "id": "tGzOyXbL79yu"
      },
      "execution_count": 13,
      "outputs": []
    },
    {
      "cell_type": "code",
      "source": [
        "dados_ausentes = df.isnull().values.any()\n",
        "\n",
        "if dados_ausentes:\n",
        "    print(\"Existem valores ausentes na base de dados.\")\n",
        "else:\n",
        "    print(\"Não existem valores ausentes na base de dados.\")"
      ],
      "metadata": {
        "colab": {
          "base_uri": "https://localhost:8080/"
        },
        "id": "Xt3Jjrs-8oPk",
        "outputId": "34ecbcf1-78cf-46d0-a66d-300310929a2d"
      },
      "execution_count": 14,
      "outputs": [
        {
          "output_type": "stream",
          "name": "stdout",
          "text": [
            "Não existem valores ausentes na base de dados.\n"
          ]
        }
      ]
    },
    {
      "cell_type": "code",
      "source": [
        "#Verifica se existem linhas iguais desconsiderando o atributo 'class'\n",
        "\n",
        "if df.drop('class', axis=1).duplicated().any():\n",
        "    print(\"Pelo menos uma duplicata foi encontrada.\")\n",
        "else:\n",
        "    print(\"Não foram encontrados dados redundantes.\")"
      ],
      "metadata": {
        "colab": {
          "base_uri": "https://localhost:8080/"
        },
        "id": "w79OhMwh-7J1",
        "outputId": "153b0171-c7cd-438a-9839-e817e5d99e79"
      },
      "execution_count": 15,
      "outputs": [
        {
          "output_type": "stream",
          "name": "stdout",
          "text": [
            "Não foram encontrados dados redundantes.\n"
          ]
        }
      ]
    },
    {
      "cell_type": "code",
      "source": [
        "#Verifica se todos os dados da base são inteiros\n",
        "\n",
        "sao_inteiros = (df.dtypes == 'int64').all()\n",
        "\n",
        "if sao_inteiros:\n",
        "    print(\"Todos os dados são inteiros.\")\n",
        "else:\n",
        "    print(\"Existem dados que não são inteiros.\")"
      ],
      "metadata": {
        "colab": {
          "base_uri": "https://localhost:8080/"
        },
        "id": "yTR_ZjQJCuWr",
        "outputId": "dc8aa5f4-19e4-444c-e367-987ddd1eb975"
      },
      "execution_count": 16,
      "outputs": [
        {
          "output_type": "stream",
          "name": "stdout",
          "text": [
            "Todos os dados são inteiros.\n"
          ]
        }
      ]
    },
    {
      "cell_type": "code",
      "source": [
        "print(\"Atributo 'class': \\nMax possível = 3\")\n",
        "print(\"Max obtido = \" + str(df[\"class\"].max()))\n",
        "print(\"\\nMin possível = 2\")\n",
        "print(\"Min obtido = \" + str(df[\"class\"].min()))"
      ],
      "metadata": {
        "colab": {
          "base_uri": "https://localhost:8080/"
        },
        "id": "kgAazMJa-9mB",
        "outputId": "0ef9b104-4292-4584-d913-4cbdd20a625f"
      },
      "execution_count": 17,
      "outputs": [
        {
          "output_type": "stream",
          "name": "stdout",
          "text": [
            "Atributo 'class': \n",
            "Max possível = 3\n",
            "Max obtido = 3\n",
            "\n",
            "Min possível = 2\n",
            "Min obtido = 2\n"
          ]
        }
      ]
    },
    {
      "cell_type": "code",
      "source": [
        "print(\"\\nAtributo 'lymphatics': \\nMax possível = 4\")\n",
        "print(\"Max obtido = \" + str(df[\"lymphatics\"].max()))\n",
        "print(\"\\nMin possível = 1\")\n",
        "print(\"Min obtido = \" + str(df[\"lymphatics\"].min()))"
      ],
      "metadata": {
        "colab": {
          "base_uri": "https://localhost:8080/"
        },
        "id": "R9HMA1pTBV1F",
        "outputId": "4741c0a9-be45-4e6a-8be6-9daefbf6e021"
      },
      "execution_count": 18,
      "outputs": [
        {
          "output_type": "stream",
          "name": "stdout",
          "text": [
            "\n",
            "Atributo 'lymphatics': \n",
            "Max possível = 4\n",
            "Max obtido = 4\n",
            "\n",
            "Min possível = 1\n",
            "Min obtido = 2\n"
          ]
        }
      ]
    },
    {
      "cell_type": "code",
      "source": [
        "print(\"\\nAtributo 'block of affere': \\nMax possível = 2\")\n",
        "print(\"Max obtido = \" + str(df[\"block of affere\"].max()))\n",
        "print(\"\\nMin possível = 1\")\n",
        "print(\"Min obtido = \" + str(df[\"block of affere\"].min()))"
      ],
      "metadata": {
        "colab": {
          "base_uri": "https://localhost:8080/"
        },
        "id": "rKRG89VIDiZ4",
        "outputId": "3bfff9ba-3b43-4b7a-fb88-292793bc625a"
      },
      "execution_count": 19,
      "outputs": [
        {
          "output_type": "stream",
          "name": "stdout",
          "text": [
            "\n",
            "Atributo 'block of affere': \n",
            "Max possível = 2\n",
            "Max obtido = 2\n",
            "\n",
            "Min possível = 1\n",
            "Min obtido = 1\n"
          ]
        }
      ]
    },
    {
      "cell_type": "code",
      "source": [
        "print(\"\\nAtributo 'bl. of lymph. c': \\nMax possível = 2\")\n",
        "print(\"Max obtido = \" + str(df[\"bl. of lymph. c\"].max()))\n",
        "print(\"\\nMin possível = 1\")\n",
        "print(\"Min obtido = \" + str(df[\"bl. of lymph. c\"].min()))"
      ],
      "metadata": {
        "colab": {
          "base_uri": "https://localhost:8080/"
        },
        "id": "FYm-yeSqEzs2",
        "outputId": "94e426d5-d7c1-480c-ea9f-518a67039dd2"
      },
      "execution_count": 20,
      "outputs": [
        {
          "output_type": "stream",
          "name": "stdout",
          "text": [
            "\n",
            "Atributo 'bl. of lymph. c': \n",
            "Max possível = 2\n",
            "Max obtido = 2\n",
            "\n",
            "Min possível = 1\n",
            "Min obtido = 1\n"
          ]
        }
      ]
    },
    {
      "cell_type": "code",
      "source": [
        "print(\"\\nAtributo 'bl. of lymph. s': \\nMax possível = 2\")\n",
        "print(\"Max obtido = \" + str(df[\"bl. of lymph. s\"].max()))\n",
        "print(\"\\nMin possível = 1\")\n",
        "print(\"Min obtido = \" + str(df[\"bl. of lymph. s\"].min()))"
      ],
      "metadata": {
        "colab": {
          "base_uri": "https://localhost:8080/"
        },
        "id": "WZVYD0gpE2We",
        "outputId": "2c969b80-db69-4b8f-f1fe-91e8b070617b"
      },
      "execution_count": 21,
      "outputs": [
        {
          "output_type": "stream",
          "name": "stdout",
          "text": [
            "\n",
            "Atributo 'bl. of lymph. s': \n",
            "Max possível = 2\n",
            "Max obtido = 2\n",
            "\n",
            "Min possível = 1\n",
            "Min obtido = 1\n"
          ]
        }
      ]
    },
    {
      "cell_type": "code",
      "source": [
        "print(\"\\nAtributo 'by pass': \\nMax possível = 2\")\n",
        "print(\"Max obtido = \" + str(df[\"by pass\"].max()))\n",
        "print(\"\\nMin possível = 1\")\n",
        "print(\"Min obtido = \" + str(df[\"by pass\"].min()))"
      ],
      "metadata": {
        "colab": {
          "base_uri": "https://localhost:8080/"
        },
        "id": "SNpVahZ3E3HH",
        "outputId": "5866ff0a-da89-477c-c7a9-5432b2b59db4"
      },
      "execution_count": 22,
      "outputs": [
        {
          "output_type": "stream",
          "name": "stdout",
          "text": [
            "\n",
            "Atributo 'by pass': \n",
            "Max possível = 2\n",
            "Max obtido = 2\n",
            "\n",
            "Min possível = 1\n",
            "Min obtido = 1\n"
          ]
        }
      ]
    },
    {
      "cell_type": "code",
      "source": [
        "print(\"\\nAtributo 'extravasates': \\nMax possível = 2\")\n",
        "print(\"Max obtido = \" + str(df[\"extravasates\"].max()))\n",
        "print(\"\\nMin possível = 1\")\n",
        "print(\"Min obtido = \" + str(df[\"extravasates\"].min()))"
      ],
      "metadata": {
        "colab": {
          "base_uri": "https://localhost:8080/"
        },
        "id": "s-zzFsxdE3Ud",
        "outputId": "3a43e437-bb7c-48dd-8b83-3b441cb45d92"
      },
      "execution_count": 23,
      "outputs": [
        {
          "output_type": "stream",
          "name": "stdout",
          "text": [
            "\n",
            "Atributo 'extravasates': \n",
            "Max possível = 2\n",
            "Max obtido = 2\n",
            "\n",
            "Min possível = 1\n",
            "Min obtido = 1\n"
          ]
        }
      ]
    },
    {
      "cell_type": "code",
      "source": [
        "print(\"\\nAtributo 'regeneration of': \\nMax possível = 2\")\n",
        "print(\"Max obtido = \" + str(df[\"regeneration of\"].max()))\n",
        "print(\"\\nMin possível = 1\")\n",
        "print(\"Min obtido = \" + str(df[\"regeneration of\"].min()))"
      ],
      "metadata": {
        "colab": {
          "base_uri": "https://localhost:8080/"
        },
        "id": "kkcs4hm6E3iv",
        "outputId": "73dfcb41-5687-4610-a2c8-8519b8f130ec"
      },
      "execution_count": 24,
      "outputs": [
        {
          "output_type": "stream",
          "name": "stdout",
          "text": [
            "\n",
            "Atributo 'regeneration of': \n",
            "Max possível = 2\n",
            "Max obtido = 2\n",
            "\n",
            "Min possível = 1\n",
            "Min obtido = 1\n"
          ]
        }
      ]
    },
    {
      "cell_type": "code",
      "source": [
        "print(\"\\nAtributo 'regeneration of': \\nMax possível = 2\")\n",
        "print(\"Max obtido = \" + str(df[\"regeneration of\"].max()))\n",
        "print(\"\\nMin possível = 1\")\n",
        "print(\"Min obtido = \" + str(df[\"regeneration of\"].min()))"
      ],
      "metadata": {
        "colab": {
          "base_uri": "https://localhost:8080/"
        },
        "id": "R4wmhxF6E3w9",
        "outputId": "12602451-51aa-4adf-eceb-39129a356f2c"
      },
      "execution_count": 25,
      "outputs": [
        {
          "output_type": "stream",
          "name": "stdout",
          "text": [
            "\n",
            "Atributo 'regeneration of': \n",
            "Max possível = 2\n",
            "Max obtido = 2\n",
            "\n",
            "Min possível = 1\n",
            "Min obtido = 1\n"
          ]
        }
      ]
    },
    {
      "cell_type": "code",
      "source": [
        "print(\"\\nAtributo 'lym.nodes dimin': \\nMax possível = 3\")\n",
        "print(\"Max obtido = \" + str(df[\"lym.nodes dimin\"].max()))\n",
        "print(\"\\nMin possível = 0\")\n",
        "print(\"Min obtido = \" + str(df[\"lym.nodes dimin\"].min()))"
      ],
      "metadata": {
        "colab": {
          "base_uri": "https://localhost:8080/"
        },
        "id": "hF66fqIEE39c",
        "outputId": "3043b4b4-d58e-466a-9437-ecace87f0b67"
      },
      "execution_count": 26,
      "outputs": [
        {
          "output_type": "stream",
          "name": "stdout",
          "text": [
            "\n",
            "Atributo 'lym.nodes dimin': \n",
            "Max possível = 3\n",
            "Max obtido = 2\n",
            "\n",
            "Min possível = 0\n",
            "Min obtido = 1\n"
          ]
        }
      ]
    },
    {
      "cell_type": "code",
      "source": [
        "print(\"\\nAtributo 'lym.nodes enlar': \\nMax possível = 4\")\n",
        "print(\"Max obtido = \" + str(df[\"lym.nodes enlar\"].max()))\n",
        "print(\"\\nMin possível = 1\")\n",
        "print(\"Min obtido = \" + str(df[\"lym.nodes enlar\"].min()))"
      ],
      "metadata": {
        "colab": {
          "base_uri": "https://localhost:8080/"
        },
        "id": "54zPQZ4eE4Ko",
        "outputId": "8a931e45-a03b-4f95-94e5-9d5fb34428bb"
      },
      "execution_count": 27,
      "outputs": [
        {
          "output_type": "stream",
          "name": "stdout",
          "text": [
            "\n",
            "Atributo 'lym.nodes enlar': \n",
            "Max possível = 4\n",
            "Max obtido = 4\n",
            "\n",
            "Min possível = 1\n",
            "Min obtido = 1\n"
          ]
        }
      ]
    },
    {
      "cell_type": "code",
      "source": [
        "print(\"\\nAtributo 'changes in lym.': \\nMax possível = 3\")\n",
        "print(\"Max obtido = \" + str(df[\"changes in lym.\"].max()))\n",
        "print(\"\\nMin possível = 1\")\n",
        "print(\"Min obtido = \" + str(df[\"changes in lym.\"].min()))"
      ],
      "metadata": {
        "colab": {
          "base_uri": "https://localhost:8080/"
        },
        "id": "LJaPJHHXE4WW",
        "outputId": "884e6833-072b-455b-b993-5d6136bfa931"
      },
      "execution_count": 28,
      "outputs": [
        {
          "output_type": "stream",
          "name": "stdout",
          "text": [
            "\n",
            "Atributo 'changes in lym.': \n",
            "Max possível = 3\n",
            "Max obtido = 3\n",
            "\n",
            "Min possível = 1\n",
            "Min obtido = 1\n"
          ]
        }
      ]
    },
    {
      "cell_type": "code",
      "source": [
        "print(\"\\nAtributo 'defect in node': \\nMax possível = 4\")\n",
        "print(\"Max obtido = \" + str(df[\"defect in node\"].max()))\n",
        "print(\"\\nMin possível = 1\")\n",
        "print(\"Min obtido = \" + str(df[\"defect in node\"].min()))"
      ],
      "metadata": {
        "colab": {
          "base_uri": "https://localhost:8080/"
        },
        "id": "qF4ZaekdE4nz",
        "outputId": "d5221bf8-a64a-4ca3-aa78-d4ee9bd92826"
      },
      "execution_count": 29,
      "outputs": [
        {
          "output_type": "stream",
          "name": "stdout",
          "text": [
            "\n",
            "Atributo 'defect in node': \n",
            "Max possível = 4\n",
            "Max obtido = 4\n",
            "\n",
            "Min possível = 1\n",
            "Min obtido = 1\n"
          ]
        }
      ]
    },
    {
      "cell_type": "code",
      "source": [
        "print(\"\\nAtributo 'changes in stru': \\nMax possível = 8\")\n",
        "print(\"Max obtido = \" + str(df[\"changes in stru\"].max()))\n",
        "print(\"\\nMin possível = 1\")\n",
        "print(\"Min obtido = \" + str(df[\"changes in stru\"].min()))"
      ],
      "metadata": {
        "colab": {
          "base_uri": "https://localhost:8080/"
        },
        "id": "_F_8fu1BE4zx",
        "outputId": "9108a5aa-cc99-49a5-b03d-a6defa6b8394"
      },
      "execution_count": 30,
      "outputs": [
        {
          "output_type": "stream",
          "name": "stdout",
          "text": [
            "\n",
            "Atributo 'changes in stru': \n",
            "Max possível = 8\n",
            "Max obtido = 8\n",
            "\n",
            "Min possível = 1\n",
            "Min obtido = 1\n"
          ]
        }
      ]
    },
    {
      "cell_type": "code",
      "source": [
        "print(\"\\nAtributo 'special forms': \\nMax possível = 3\")\n",
        "print(\"Max obtido = \" + str(df[\"special forms\"].max()))\n",
        "print(\"\\nMin possível = 1\")\n",
        "print(\"Min obtido = \" + str(df[\"special forms\"].min()))"
      ],
      "metadata": {
        "colab": {
          "base_uri": "https://localhost:8080/"
        },
        "id": "1hKN6yhmE4-8",
        "outputId": "cd92c152-c3e7-44ae-a194-0c27b9ddfa34"
      },
      "execution_count": 31,
      "outputs": [
        {
          "output_type": "stream",
          "name": "stdout",
          "text": [
            "\n",
            "Atributo 'special forms': \n",
            "Max possível = 3\n",
            "Max obtido = 3\n",
            "\n",
            "Min possível = 1\n",
            "Min obtido = 1\n"
          ]
        }
      ]
    },
    {
      "cell_type": "code",
      "source": [
        "print(\"\\nAtributo 'dislocation of': \\nMax possível = 2\")\n",
        "print(\"Max obtido = \" + str(df[\"dislocation of\"].max()))\n",
        "print(\"\\nMin possível = 1\")\n",
        "print(\"Min obtido = \" + str(df[\"dislocation of\"].min()))"
      ],
      "metadata": {
        "colab": {
          "base_uri": "https://localhost:8080/"
        },
        "id": "12eObxMyE5Ne",
        "outputId": "b12e33ae-880c-4a30-90ab-4aa140499535"
      },
      "execution_count": 32,
      "outputs": [
        {
          "output_type": "stream",
          "name": "stdout",
          "text": [
            "\n",
            "Atributo 'dislocation of': \n",
            "Max possível = 2\n",
            "Max obtido = 2\n",
            "\n",
            "Min possível = 1\n",
            "Min obtido = 1\n"
          ]
        }
      ]
    },
    {
      "cell_type": "code",
      "source": [
        "print(\"\\nAtributo 'exclusion of no': \\nMax possível = 2\")\n",
        "print(\"Max obtido = \" + str(df[\"exclusion of no\"].max()))\n",
        "print(\"\\nMin possível = 1\")\n",
        "print(\"Min obtido = \" + str(df[\"exclusion of no\"].min()))"
      ],
      "metadata": {
        "colab": {
          "base_uri": "https://localhost:8080/"
        },
        "id": "6t9wg9bLE5ZA",
        "outputId": "2e623a36-7c6a-4857-b694-930747247468"
      },
      "execution_count": 33,
      "outputs": [
        {
          "output_type": "stream",
          "name": "stdout",
          "text": [
            "\n",
            "Atributo 'exclusion of no': \n",
            "Max possível = 2\n",
            "Max obtido = 2\n",
            "\n",
            "Min possível = 1\n",
            "Min obtido = 1\n"
          ]
        }
      ]
    },
    {
      "cell_type": "code",
      "source": [
        "print(\"\\nAtributo 'no. of nodes in': \\nMax possível = 70\")\n",
        "print(\"Max obtido = \" + str(df[\"no. of nodes in\"].max()))\n",
        "print(\"\\nMin possível = 0\")\n",
        "print(\"Min obtido = \" + str(df[\"no. of nodes in\"].min()))"
      ],
      "metadata": {
        "colab": {
          "base_uri": "https://localhost:8080/"
        },
        "id": "G40rIvawE5mn",
        "outputId": "f2681ca3-fe2e-43c5-ec1b-eedba14e6ea4"
      },
      "execution_count": 34,
      "outputs": [
        {
          "output_type": "stream",
          "name": "stdout",
          "text": [
            "\n",
            "Atributo 'no. of nodes in': \n",
            "Max possível = 70\n",
            "Max obtido = 8\n",
            "\n",
            "Min possível = 0\n",
            "Min obtido = 1\n"
          ]
        }
      ]
    },
    {
      "cell_type": "markdown",
      "source": [
        "Com isso é possível concluir que a base não tem nenhum ruído nem outlier, pois os valores máximos e mínimos de todos os atributos estão dentro do intervalo permitido pelo próprio atributo."
      ],
      "metadata": {
        "id": "Bfc5Z7pFGErQ"
      }
    },
    {
      "cell_type": "markdown",
      "source": [
        "**13. Identificação e conversão dos tipos de dados (caso não seja necessário, analisar o porquê).\n",
        "Os tipos de conversão que podem ser utilizados são:**\n",
        "\n",
        "**a. Conversão de tipos (simbólico para numérico, ordinal para numérico, nominal para\n",
        "binário, numérico para ordinal);**\n",
        "\n",
        "**b. Normalização dos dados (re-escala ou padronização)**\n",
        "\n",
        "Suponho que não seja necessário nenhuma conversão pois todos os dados já são numéricos e os atributos intervalares já estão em intervalos bem definidos."
      ],
      "metadata": {
        "id": "L-Citww8Gqb0"
      }
    },
    {
      "cell_type": "markdown",
      "source": [
        "**14. Análise e aplicação de alguma técnica para redução de dimensionalidade – pesquisar\n",
        "alguma técnica utilizada na literatura e aplicar**"
      ],
      "metadata": {
        "id": "5i8Cjj9qHQ5K"
      }
    },
    {
      "cell_type": "code",
      "source": [
        "atrib = df.drop('class', axis = 1)\n",
        "alvo = df['class']\n",
        "\n",
        "pontuacao = []\n",
        "for feature in atrib.columns:\n",
        "    tabelaConting = pd.crosstab(atrib[feature], alvo)\n",
        "    im = 0\n",
        "    for i in range(len(tabelaConting)):\n",
        "        for j in range(len(tabelaConting.columns)):\n",
        "            observado = tabelaConting.iloc[i, j]\n",
        "            if observado > 0:\n",
        "                im += observado * np.log(observado / (np.sum(tabelaConting.iloc[i, :]) * np.sum(tabelaConting.iloc[:, j])))\n",
        "    pontuacao.append(im)\n",
        "\n",
        "index = np.argsort(pontuacao)[::-1]\n",
        "features = atrib.columns[index]\n",
        "\n",
        "n_features = 10\n",
        "\n",
        "featuresSelecionadas = features[:n_features]\n",
        "\n",
        "novaBase = atrib[featuresSelecionadas]\n",
        "\n",
        "novaBase.insert(loc = 2, column = 'class', value = alvo)"
      ],
      "metadata": {
        "id": "J78CoZLENhlN"
      },
      "execution_count": 35,
      "outputs": []
    },
    {
      "cell_type": "code",
      "source": [
        "separador = int(0.8 * len(novaBase))\n",
        "treino = novaBase[:separador]\n",
        "teste = novaBase[separador:]"
      ],
      "metadata": {
        "id": "u0_CJOLIdWwN"
      },
      "execution_count": 36,
      "outputs": []
    }
  ]
}